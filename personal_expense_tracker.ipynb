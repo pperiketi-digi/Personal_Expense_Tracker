{
 "cells": [
  {
   "cell_type": "markdown",
   "id": "9928dac1",
   "metadata": {},
   "source": [
    "# 🧾 Personal Expense Tracker\n",
    "This notebook lets you record and visualize your expenses. You can add new ones via input prompts."
   ]
  },
  {
   "cell_type": "code",
   "execution_count": 7,
   "id": "b091e9c0",
   "metadata": {},
   "outputs": [],
   "source": [
    "import pandas as pd\n",
    "import matplotlib.pyplot as plt\n",
    "from datetime import datetime\n",
    "\n",
    "%matplotlib inline\n",
    "plt.rcParams[\"figure.figsize\"] = (10, 5)"
   ]
  },
  {
   "cell_type": "code",
   "execution_count": 8,
   "id": "ed166298",
   "metadata": {},
   "outputs": [
    {
     "data": {
      "text/html": [
       "<div>\n",
       "<style scoped>\n",
       "    .dataframe tbody tr th:only-of-type {\n",
       "        vertical-align: middle;\n",
       "    }\n",
       "\n",
       "    .dataframe tbody tr th {\n",
       "        vertical-align: top;\n",
       "    }\n",
       "\n",
       "    .dataframe thead th {\n",
       "        text-align: right;\n",
       "    }\n",
       "</style>\n",
       "<table border=\"1\" class=\"dataframe\">\n",
       "  <thead>\n",
       "    <tr style=\"text-align: right;\">\n",
       "      <th></th>\n",
       "      <th>Date</th>\n",
       "      <th>Category</th>\n",
       "      <th>Description</th>\n",
       "      <th>Amount</th>\n",
       "    </tr>\n",
       "  </thead>\n",
       "  <tbody>\n",
       "    <tr>\n",
       "      <th>0</th>\n",
       "      <td>2025-06-01</td>\n",
       "      <td>Food</td>\n",
       "      <td>Groceries</td>\n",
       "      <td>120.50</td>\n",
       "    </tr>\n",
       "    <tr>\n",
       "      <th>1</th>\n",
       "      <td>2025-06-02</td>\n",
       "      <td>Transport</td>\n",
       "      <td>Gas</td>\n",
       "      <td>45.00</td>\n",
       "    </tr>\n",
       "    <tr>\n",
       "      <th>2</th>\n",
       "      <td>2025-06-03</td>\n",
       "      <td>Entertainment</td>\n",
       "      <td>Movies</td>\n",
       "      <td>15.00</td>\n",
       "    </tr>\n",
       "    <tr>\n",
       "      <th>3</th>\n",
       "      <td>2025-06-03</td>\n",
       "      <td>Food</td>\n",
       "      <td>Dining Out</td>\n",
       "      <td>30.25</td>\n",
       "    </tr>\n",
       "    <tr>\n",
       "      <th>4</th>\n",
       "      <td>2025-06-04</td>\n",
       "      <td>Utilities</td>\n",
       "      <td>Electricity Bill</td>\n",
       "      <td>65.75</td>\n",
       "    </tr>\n",
       "  </tbody>\n",
       "</table>\n",
       "</div>"
      ],
      "text/plain": [
       "        Date       Category       Description  Amount\n",
       "0 2025-06-01           Food         Groceries  120.50\n",
       "1 2025-06-02      Transport               Gas   45.00\n",
       "2 2025-06-03  Entertainment            Movies   15.00\n",
       "3 2025-06-03           Food        Dining Out   30.25\n",
       "4 2025-06-04      Utilities  Electricity Bill   65.75"
      ]
     },
     "execution_count": 8,
     "metadata": {},
     "output_type": "execute_result"
    }
   ],
   "source": [
    "# Initialize the DataFrame\n",
    "expenses = pd.DataFrame(columns=[\"Date\", \"Category\", \"Description\", \"Amount\"])\n",
    "\n",
    "# Add sample data\n",
    "sample_data = [\n",
    "    {\"Date\": \"2025-06-01\", \"Category\": \"Food\", \"Description\": \"Groceries\", \"Amount\": 120.50},\n",
    "    {\"Date\": \"2025-06-02\", \"Category\": \"Transport\", \"Description\": \"Gas\", \"Amount\": 45.00},\n",
    "    {\"Date\": \"2025-06-03\", \"Category\": \"Entertainment\", \"Description\": \"Movies\", \"Amount\": 15.00},\n",
    "    {\"Date\": \"2025-06-03\", \"Category\": \"Food\", \"Description\": \"Dining Out\", \"Amount\": 30.25},\n",
    "    {\"Date\": \"2025-06-04\", \"Category\": \"Utilities\", \"Description\": \"Electricity Bill\", \"Amount\": 65.75}\n",
    "]\n",
    "\n",
    "for entry in sample_data:\n",
    "    expenses.loc[len(expenses)] = entry\n",
    "\n",
    "# Convert Date column\n",
    "expenses[\"Date\"] = pd.to_datetime(expenses[\"Date\"])\n",
    "expenses.head()"
   ]
  },
  {
   "cell_type": "code",
   "execution_count": 9,
   "id": "fc4db07d",
   "metadata": {},
   "outputs": [
    {
     "name": "stdout",
     "output_type": "stream",
     "text": [
      "\n",
      "Enter a new expense (leave Date empty to stop):\n"
     ]
    },
    {
     "name": "stdin",
     "output_type": "stream",
     "text": [
      "Date (YYYY-MM-DD):  \n"
     ]
    }
   ],
   "source": [
    "# ✅ Add expenses via user input\n",
    "while True:\n",
    "    print(\"\\nEnter a new expense (leave Date empty to stop):\")\n",
    "    date_str = input(\"Date (YYYY-MM-DD): \").strip()\n",
    "    if not date_str:\n",
    "        break\n",
    "    category = input(\"Category: \").strip()\n",
    "    description = input(\"Description: \").strip()\n",
    "    try:\n",
    "        amount = float(input(\"Amount: \").strip())\n",
    "    except ValueError:\n",
    "        print(\"Invalid amount. Try again.\")\n",
    "        continue\n",
    "\n",
    "    try:\n",
    "        date = pd.to_datetime(date_str)\n",
    "    except Exception as e:\n",
    "        print(\"Invalid date format. Try again.\")\n",
    "        continue\n",
    "\n",
    "    expenses.loc[len(expenses)] = {\n",
    "        \"Date\": date,\n",
    "        \"Category\": category,\n",
    "        \"Description\": description,\n",
    "        \"Amount\": amount\n",
    "    }\n",
    "    print(\"Expense added!\")"
   ]
  },
  {
   "cell_type": "code",
   "execution_count": 13,
   "id": "d8d5fe20",
   "metadata": {},
   "outputs": [
    {
     "data": {
      "text/html": [
       "<div>\n",
       "<style scoped>\n",
       "    .dataframe tbody tr th:only-of-type {\n",
       "        vertical-align: middle;\n",
       "    }\n",
       "\n",
       "    .dataframe tbody tr th {\n",
       "        vertical-align: top;\n",
       "    }\n",
       "\n",
       "    .dataframe thead th {\n",
       "        text-align: right;\n",
       "    }\n",
       "</style>\n",
       "<table border=\"1\" class=\"dataframe\">\n",
       "  <thead>\n",
       "    <tr style=\"text-align: right;\">\n",
       "      <th></th>\n",
       "      <th>Category</th>\n",
       "      <th>Amount</th>\n",
       "    </tr>\n",
       "  </thead>\n",
       "  <tbody>\n",
       "    <tr>\n",
       "      <th>1</th>\n",
       "      <td>Food</td>\n",
       "      <td>150.75</td>\n",
       "    </tr>\n",
       "    <tr>\n",
       "      <th>3</th>\n",
       "      <td>Utilities</td>\n",
       "      <td>65.75</td>\n",
       "    </tr>\n",
       "    <tr>\n",
       "      <th>2</th>\n",
       "      <td>Transport</td>\n",
       "      <td>45.00</td>\n",
       "    </tr>\n",
       "    <tr>\n",
       "      <th>0</th>\n",
       "      <td>Entertainment</td>\n",
       "      <td>15.00</td>\n",
       "    </tr>\n",
       "  </tbody>\n",
       "</table>\n",
       "</div>"
      ],
      "text/plain": [
       "        Category  Amount\n",
       "1           Food  150.75\n",
       "3      Utilities   65.75\n",
       "2      Transport   45.00\n",
       "0  Entertainment   15.00"
      ]
     },
     "execution_count": 13,
     "metadata": {},
     "output_type": "execute_result"
    }
   ],
   "source": [
    "# 📊 Summary by category\n",
    "category_summary = expenses.groupby(\"Category\")[\"Amount\"].sum().reset_index()\n",
    "category_summary.sort_values(by=\"Amount\", ascending=False)"
   ]
  },
  {
   "cell_type": "code",
   "execution_count": 14,
   "id": "c9e7efc3",
   "metadata": {},
   "outputs": [
    {
     "data": {
      "image/png": "[encoded data removed]",
      "text/plain": [
       "<Figure size 1000x500 with 1 Axes>"
      ]
     },
     "metadata": {},
     "output_type": "display_data"
    }
   ],
   "source": [
    "# 📈 Bar chart\n",
    "category_summary.plot(kind=\"bar\", x=\"Category\", y=\"Amount\", legend=False, color=\"skyblue\")\n",
    "plt.title(\"Total Expenses by Category\")\n",
    "plt.ylabel(\"Amount ($)\")\n",
    "plt.grid(True)\n",
    "plt.tight_layout()\n",
    "plt.show()"
   ]
  },
  {
   "cell_type": "code",
   "execution_count": 15,
   "id": "894ea8dc",
   "metadata": {},
   "outputs": [
    {
     "name": "stdout",
     "output_type": "stream",
     "text": [
      "Expenses saved to 'my_expenses.csv'\n"
     ]
    }
   ],
   "source": [
    "# 💾 Save to CSV\n",
    "expenses.to_csv(\"my_expenses.csv\", index=False)\n",
    "print(\"Expenses saved to 'my_expenses.csv'\")"
   ]
  },
  {
   "cell_type": "code",
   "execution_count": null,
   "id": "bf90133d-35aa-4b0f-b81b-f581ac4709e2",
   "metadata": {},
   "outputs": [],
   "source": []
  },
  {
   "cell_type": "code",
   "execution_count": null,
   "id": "18aa4710-f5ce-4665-8e4d-30e09bea0cd8",
   "metadata": {},
   "outputs": [],
   "source": []
  }
 ],
 "metadata": {
  "kernelspec": {
   "display_name": "Python [conda env:base] *",
   "language": "python",
   "name": "conda-base-py"
  },
  "language_info": {
   "codemirror_mode": {
    "name": "ipython",
    "version": 3
   },
   "file_extension": ".py",
   "mimetype": "text/x-python",
   "name": "python",
   "nbconvert_exporter": "python",
   "pygments_lexer": "ipython3",
   "version": "3.12.7"
  }
 },
 "nbformat": 4,
 "nbformat_minor": 5
}
